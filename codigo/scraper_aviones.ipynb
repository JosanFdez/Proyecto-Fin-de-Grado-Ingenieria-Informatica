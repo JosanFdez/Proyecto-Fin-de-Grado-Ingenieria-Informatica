{
 "cells": [
  {
   "cell_type": "markdown",
   "id": "5bc2c5e8",
   "metadata": {},
   "source": [
    "<div style=\"background-color: white; color: black; font-family: 'Times New Roman', serif; padding: 50px; max-width: 450px; margin: auto; border: 1px solid #ccc; box-shadow: 0 0 10px rgba(0,0,0,0.1);\">\n",
    "  <div align=\"center\">\n",
    "    <img src=\"Imagenes/ugr_escudo_sin.png\" alt=\"Escudo UGR\" style=\"height: 120px;\"><br><br>\n",
    "    <h2 style=\"margin-bottom: 0;\">Universidad de Granada</h2>\n",
    "    <h3 style=\"margin-top: 0;\">TRABAJO FIN DE GRADO</h3>\n",
    "    <p style=\"font-variant: small-caps; font-size: 14px;\">\n",
    "      Doble Grado en Ingeniería Informática y Administración y Dirección de Empresas\n",
    "    </p>\n",
    "    <hr style=\"width: 60%; border: 1px solid black;\">\n",
    "    <h2 style=\"font-size: 20px;\">\n",
    "      Análisis y Optimización de<br>\n",
    "      Rutas Aéreas Comerciales<br>\n",
    "      mediante Ciencia de Datos\n",
    "    </h2>\n",
    "    <hr style=\"width: 60%; border: 1px solid black;\">\n",
    "    <br>\n",
    "    <p><strong>Autor</strong><br>José Antonio Fernández Aranda</p>\n",
    "    <p><strong>Director</strong><br>Jorge Casillas Barranquero</p>\n",
    "    <p><strong>Web Scraping de aviones</strong><br></p>\n",
    "    <br><br>\n",
    "    <div style=\"display: flex; justify-content: center; align-items: center; gap: 80px; flex-wrap: wrap;\">\n",
    "      <img src=\"https://etsiit.ugr.es/sites/centros/etsiit/public/template-extra/etsiit-logo.png\" alt=\"Logo ETSIIT\" style=\"height: 100px;\">\n",
    "      <img src=\"Imagenes/logo_decsai.png\" alt=\"Logo DECSAI\" style=\"height: 100px;\">\n",
    "    </div>\n",
    "    <br>\n",
    "    <p style=\"font-size: 14px;\">\n",
    "      Escuela Técnica Superior de Ingenierías Informática y de Telecomunicación<br>\n",
    "      —<br>\n",
    "      Granada, a ___ de junio de 2025\n",
    "    </p>\n",
    "  </div>\n",
    "</div>\n",
    "\n"
   ]
  },
  {
   "cell_type": "markdown",
   "id": "c3a02eb9",
   "metadata": {},
   "source": [
    "## OpenSky Network\n",
    "\n",
    "En esta sección se documenta y ejecuta el proceso de obtención de datos desde la API de OpenSky Network.  \n",
    "Esta plataforma proporciona datos ADS-B en tiempo real sobre vuelos activos a nivel mundial.  \n",
    "Utilizaremos la API pública para consultar vuelos activos sobre una región geográfica específica (España).\n"
   ]
  },
  {
   "cell_type": "markdown",
   "id": "b9c63897",
   "metadata": {},
   "source": [
    "### Conexión a la API y obtención de datos"
   ]
  },
  {
   "cell_type": "markdown",
   "id": "80253606",
   "metadata": {},
   "source": [
    "#### Bibliotecas Empleadas: "
   ]
  },
  {
   "cell_type": "code",
   "execution_count": 2,
   "id": "27840ee7",
   "metadata": {},
   "outputs": [],
   "source": [
    "import requests\n",
    "import pandas as pd\n",
    "from datetime import datetime\n",
    "import json\n"
   ]
  },
  {
   "cell_type": "markdown",
   "id": "22ee1460",
   "metadata": {},
   "source": [
    "##### Credenciales de acceso"
   ]
  },
  {
   "cell_type": "code",
   "execution_count": 3,
   "id": "f857fe3e",
   "metadata": {},
   "outputs": [],
   "source": [
    "# Cargar client_id y client_secret desde JSON\n",
    "with open(\"credentials.json\") as f:\n",
    "    creds = json.load(f)\n",
    "\n",
    "client_id = creds[\"client_id\"]\n",
    "client_secret = creds[\"client_secret\"]"
   ]
  },
  {
   "cell_type": "markdown",
   "id": "53b73d5e",
   "metadata": {},
   "source": [
    "##### Coordenadas aproximadas de la región de España"
   ]
  },
  {
   "cell_type": "code",
   "execution_count": 4,
   "id": "01bb64ca",
   "metadata": {},
   "outputs": [],
   "source": [
    "token_url = \"https://identity.opensky-network.org/auth/realms/opensky-network/protocol/openid-connect/token\""
   ]
  },
  {
   "cell_type": "code",
   "execution_count": null,
   "id": "28066d73",
   "metadata": {},
   "outputs": [],
   "source": [
    "auth_response = requests.post(\n",
    "    token_url,\n",
    "    data={\n",
    "        \"grant_type\": \"client_credentials\",\n",
    "        \"client_id\": client_id,\n",
    "        \"client_secret\": client_secret\n",
    "    }\n",
    ")"
   ]
  },
  {
   "cell_type": "markdown",
   "id": "4876d7b0",
   "metadata": {},
   "source": [
    "##### Iteramos sobre cada tipo de aeronave para poder extraer sus datos"
   ]
  },
  {
   "cell_type": "code",
   "execution_count": null,
   "id": "b20cc69e",
   "metadata": {},
   "outputs": [],
   "source": [
    "columns = [\n",
    "    \"icao24\", \"callsign\", \"origin_country\", \"time_position\", \"last_contact\", \"longitude\", \n",
    "    \"latitude\", \"baro_altitude\", \"on_ground\", \"velocity\", \"true_track\", \"vertical_rate\", \n",
    "    \"sensors\", \"geo_altitude\", \"squawk\", \"spi\", \"position_source\"\n",
    "]\n",
    "\n",
    "df_opensky = pd.DataFrame(data['states'], columns=columns)\n",
    "\n",
    "df_opensky[\"time_position\"] = pd.to_datetime(df_opensky[\"time_position\"], unit='s', errors='coerce')\n",
    "df_opensky[\"last_contact\"] = pd.to_datetime(df_opensky[\"last_contact\"], unit='s', errors='coerce')\n",
    "\n",
    "df_opensky.head()"
   ]
  }
 ],
 "metadata": {
  "kernelspec": {
   "display_name": "base",
   "language": "python",
   "name": "python3"
  },
  "language_info": {
   "codemirror_mode": {
    "name": "ipython",
    "version": 3
   },
   "file_extension": ".py",
   "mimetype": "text/x-python",
   "name": "python",
   "nbconvert_exporter": "python",
   "pygments_lexer": "ipython3",
   "version": "3.12.4"
  }
 },
 "nbformat": 4,
 "nbformat_minor": 5
}
